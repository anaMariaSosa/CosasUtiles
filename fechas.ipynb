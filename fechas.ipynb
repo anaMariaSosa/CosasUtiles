import re
import pandas as pd
import numpy as np

EXCEL_ORIGIN = "1899-12-30"  # origen para fechas seriales Excel

def _parse_mixed_series_to_datetime(s: pd.Series,
                                    prefer: str = "DMY") -> pd.Series:
    """
    Convierte una Serie heterogénea de fechas a dtype datetime64[ns].
    prefer: "DMY" (España), "MDY" (EE.UU.), "YMD"
    """
    # 1) ya datetime -> tal cual
    out = pd.Series(pd.NaT, index=s.index, dtype="datetime64[ns]")
    is_dt = pd.api.types.is_datetime64_any_dtype(s)
    if is_dt:
        return pd.to_datetime(s, errors="coerce")

    # 2) numéricos (serial Excel) -> datetime
    #    Nota: a veces llegan como float/str numérica.
    s_str = s.astype("string")
    is_num_like = s_str.str.match(r"^\s*-?\d+(\.\d+)?\s*$").fillna(False)
    if is_num_like.any():
        nums = pd.to_numeric(s[is_num_like], errors="coerce")
        out.loc[is_num_like] = pd.to_datetime(nums, unit="d", origin=EXCEL_ORIGIN, errors="coerce")

    # 3) strings: probamos varias pasadas y rellenamos huecos
    #    a) Heurísticas por patrón para forzar yearfirst o dayfirst
    str_mask = (~is_num_like) & s_str.notna()

    # Utilidades
    def try_parse(mask, **kwargs):
        if not mask.any(): 
            return
        parsed = pd.to_datetime(s[mask], errors="coerce", **kwargs)
        nulls = out[mask].isna()
        out.loc[mask[mask].index[nulls]] = parsed[nulls]

    # Patrón YYYY[-/]MM[-/]DD
    ymd_pat = s_str.str.match(r"^\s*\d{4}[-/]\d{1,2}[-/]\d{1,2}(\s+\d{1,2}:\d{2}(:\d{2})?)?\s*$")
    try_parse(str_mask & ymd_pat.fillna(False), yearfirst=True)

    # Intento preferente según país
    if prefer.upper() == "DMY":
        try_parse(str_mask, dayfirst=True)   # DD/MM/YYYY...
        try_parse(str_mask, dayfirst=False)  # fallback MDY
    elif prefer.upper() == "MDY":
        try_parse(str_mask, dayfirst=False)
        try_parse(str_mask, dayfirst=True)
    elif prefer.upper() == "YMD":
        try_parse(str_mask, yearfirst=True)
        try_parse(str_mask, dayfirst=True)
        try_parse(str_mask, dayfirst=False)
    else:
        # Default robusto
        try_parse(str_mask, dayfirst=True)
        try_parse(str_mask, dayfirst=False)
        try_parse(str_mask, yearfirst=True)

    return out

def normalize_date_column(df: pd.DataFrame,
                          column: str,
                          prefer: str = "DMY",
                          to_string: bool = False,
                          fmt: str = "%Y-%m-%d %H:%M:%S",
                          tz: str | None = None) -> pd.DataFrame:
    """
    Normaliza una columna de fechas heterogéneas a datetime64[ns].
    - prefer: "DMY" (España), "MDY", "YMD" para resolver ambigüedades.
    - tz: si indicas zona (ej. 'Europe/Madrid'), localiza la columna (sin convertir).
    - to_string: si True, además crea columna _str con el formato `fmt`.
    """
    df = df.copy()
    dt = _parse_mixed_series_to_datetime(df[column], prefer=prefer)

    # Opcional: localizar en TZ (si no quieres tz, deja None)
    if tz:
        # Solo localiza Naive -> Aware (no hace cambio de hora)
        dt = pd.DatetimeIndex(dt).tz_localize(tz, nonexistent="NaT", ambiguous="NaT")

    df[column] = dt

    if to_string:
        # si es zonificada, convertir a string en esa zona
        if tz:
            df[column + "_str"] = df[column].dt.strftime(fmt)
        else:
            df[column + "_str"] = df[column].dt.strftime(fmt)

    return df

def normalize_multiple_date_columns(df: pd.DataFrame,
                                    date_cols: list[str],
                                    prefer: str = "DMY",
                                    to_string: bool = False,
                                    fmt: str = "%Y-%m-%d %H:%M:%S",
                                    tz: str | None = None) -> pd.DataFrame:
    """
    Aplica la normalización a varias columnas de fechas.
    """
    out = df.copy()
    for c in date_cols:
        if c in out.columns:
            out = normalize_date_column(out, c, prefer=prefer, to_string=to_string, fmt=fmt, tz=tz)
    return out
